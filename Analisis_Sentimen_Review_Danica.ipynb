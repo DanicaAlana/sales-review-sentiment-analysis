{
  "cells": [
    {
      "cell_type": "markdown",
      "metadata": {
        "id": "l1IUHnGX_JYN"
      },
      "source": [
        "## **Library Preparation**"
      ]
    },
    {
      "cell_type": "code",
      "execution_count": 1,
      "metadata": {
        "id": "QWst82s0-GF7"
      },
      "outputs": [],
      "source": [
        "import pandas as pd\n",
        "import numpy as np\n",
        "import nltk\n",
        "from nltk.corpus import stopwords\n",
        "from sklearn.model_selection import train_test_split\n",
        "from sklearn.feature_extraction.text import TfidfVectorizer\n",
        "from sklearn.naive_bayes import MultinomialNB\n",
        "from sklearn.metrics import accuracy_score, classification_report"
      ]
    },
    {
      "cell_type": "markdown",
      "metadata": {
        "id": "4aFltSZvBCx8"
      },
      "source": [
        "## **Load Data**"
      ]
    },
    {
      "cell_type": "code",
      "execution_count": 2,
      "metadata": {
        "id": "5c9tTaQgBGUl"
      },
      "outputs": [],
      "source": [
        "df = pd.read_csv('amazon.csv')"
      ]
    },
    {
      "cell_type": "markdown",
      "metadata": {
        "id": "DJWtvW8kKu4S"
      },
      "source": [
        "## **Exploratory Data Analysis (EDA)**"
      ]
    },
    {
      "cell_type": "code",
      "execution_count": 3,
      "metadata": {
        "id": "77ph7HBQK4Yl",
        "outputId": "7da496a7-304d-42e7-bee8-7001a0d30f7a",
        "colab": {
          "base_uri": "https://localhost:8080/"
        }
      },
      "outputs": [
        {
          "output_type": "stream",
          "name": "stdout",
          "text": [
            "   product_id                                       product_name  \\\n",
            "0  B07JW9H4J1  Wayona Nylon Braided USB to Lightning Fast Cha...   \n",
            "1  B098NS6PVG  Ambrane Unbreakable 60W / 3A Fast Charging 1.5...   \n",
            "2  B096MSW6CT  Sounce Fast Phone Charging Cable & Data Sync U...   \n",
            "3  B08HDJ86NZ  boAt Deuce USB 300 2 in 1 Type-C & Micro USB S...   \n",
            "4  B08CF3B7N1  Portronics Konnect L 1.2M Fast Charging 3A 8 P...   \n",
            "\n",
            "                                            category discounted_price  \\\n",
            "0  Computers&Accessories|Accessories&Peripherals|...             ₹399   \n",
            "1  Computers&Accessories|Accessories&Peripherals|...             ₹199   \n",
            "2  Computers&Accessories|Accessories&Peripherals|...             ₹199   \n",
            "3  Computers&Accessories|Accessories&Peripherals|...             ₹329   \n",
            "4  Computers&Accessories|Accessories&Peripherals|...             ₹154   \n",
            "\n",
            "  actual_price discount_percentage rating rating_count  \\\n",
            "0       ₹1,099                 64%    4.2       24,269   \n",
            "1         ₹349                 43%    4.0       43,994   \n",
            "2       ₹1,899                 90%    3.9        7,928   \n",
            "3         ₹699                 53%    4.2       94,363   \n",
            "4         ₹399                 61%    4.2       16,905   \n",
            "\n",
            "                                       about_product  \\\n",
            "0  High Compatibility : Compatible With iPhone 12...   \n",
            "1  Compatible with all Type C enabled devices, be...   \n",
            "2  【 Fast Charger& Data Sync】-With built-in safet...   \n",
            "3  The boAt Deuce USB 300 2 in 1 cable is compati...   \n",
            "4  [CHARGE & SYNC FUNCTION]- This cable comes wit...   \n",
            "\n",
            "                                             user_id  \\\n",
            "0  AG3D6O4STAQKAY2UVGEUV46KN35Q,AHMY5CWJMMK5BJRBB...   \n",
            "1  AECPFYFQVRUWC3KGNLJIOREFP5LQ,AGYYVPDD7YG7FYNBX...   \n",
            "2  AGU3BBQ2V2DDAMOAKGFAWDDQ6QHA,AESFLDV2PT363T2AQ...   \n",
            "3  AEWAZDZZJLQUYVOVGBEUKSLXHQ5A,AG5HTSFRRE6NL3M5S...   \n",
            "4  AE3Q6KSUK5P75D5HFYHCRAOLODSA,AFUGIFH5ZAFXRDSZH...   \n",
            "\n",
            "                                           user_name  \\\n",
            "0  Manav,Adarsh gupta,Sundeep,S.Sayeed Ahmed,jasp...   \n",
            "1  ArdKn,Nirbhay kumar,Sagar Viswanathan,Asp,Plac...   \n",
            "2  Kunal,Himanshu,viswanath,sai niharka,saqib mal...   \n",
            "3  Omkar dhale,JD,HEMALATHA,Ajwadh a.,amar singh ...   \n",
            "4  rahuls6099,Swasat Borah,Ajay Wadke,Pranali,RVK...   \n",
            "\n",
            "                                           review_id  \\\n",
            "0  R3HXWT0LRP0NMF,R2AJM3LFTLZHFO,R6AQJGUP6P86,R1K...   \n",
            "1  RGIQEG07R9HS2,R1SMWZQ86XIN8U,R2J3Y1WL29GWDE,RY...   \n",
            "2  R3J3EQQ9TZI5ZJ,R3E7WBGK7ID0KV,RWU79XKQ6I1QF,R2...   \n",
            "3  R3EEUZKKK9J36I,R3HJVYCLYOY554,REDECAZ7AMPQC,R1...   \n",
            "4  R1BP4L2HH9TFUP,R16PVJEXKV6QZS,R2UPDB81N66T4P,R...   \n",
            "\n",
            "                                        review_title  \\\n",
            "0  Satisfied,Charging is really fast,Value for mo...   \n",
            "1  A Good Braided Cable for Your Type C Device,Go...   \n",
            "2  Good speed for earlier versions,Good Product,W...   \n",
            "3  Good product,Good one,Nice,Really nice product...   \n",
            "4  As good as original,Decent,Good one for second...   \n",
            "\n",
            "                                      review_content  \\\n",
            "0  Looks durable Charging is fine tooNo complains...   \n",
            "1  I ordered this cable to connect my phone to An...   \n",
            "2  Not quite durable and sturdy,https://m.media-a...   \n",
            "3  Good product,long wire,Charges good,Nice,I bou...   \n",
            "4  Bought this instead of original apple, does th...   \n",
            "\n",
            "                                            img_link  \\\n",
            "0  https://m.media-amazon.com/images/W/WEBP_40237...   \n",
            "1  https://m.media-amazon.com/images/W/WEBP_40237...   \n",
            "2  https://m.media-amazon.com/images/W/WEBP_40237...   \n",
            "3  https://m.media-amazon.com/images/I/41V5FtEWPk...   \n",
            "4  https://m.media-amazon.com/images/W/WEBP_40237...   \n",
            "\n",
            "                                        product_link  \n",
            "0  https://www.amazon.in/Wayona-Braided-WN3LG1-Sy...  \n",
            "1  https://www.amazon.in/Ambrane-Unbreakable-Char...  \n",
            "2  https://www.amazon.in/Sounce-iPhone-Charging-C...  \n",
            "3  https://www.amazon.in/Deuce-300-Resistant-Tang...  \n",
            "4  https://www.amazon.in/Portronics-Konnect-POR-1...  \n"
          ]
        }
      ],
      "source": [
        "print(df.head())"
      ]
    },
    {
      "cell_type": "code",
      "execution_count": 4,
      "metadata": {
        "id": "dtO11WIiROcl",
        "outputId": "7691daeb-750e-43cd-dc38-dfc69a081d7d",
        "colab": {
          "base_uri": "https://localhost:8080/"
        }
      },
      "outputs": [
        {
          "output_type": "stream",
          "name": "stdout",
          "text": [
            "<class 'pandas.core.frame.DataFrame'>\n",
            "RangeIndex: 1465 entries, 0 to 1464\n",
            "Data columns (total 16 columns):\n",
            " #   Column               Non-Null Count  Dtype \n",
            "---  ------               --------------  ----- \n",
            " 0   product_id           1465 non-null   object\n",
            " 1   product_name         1465 non-null   object\n",
            " 2   category             1465 non-null   object\n",
            " 3   discounted_price     1465 non-null   object\n",
            " 4   actual_price         1465 non-null   object\n",
            " 5   discount_percentage  1465 non-null   object\n",
            " 6   rating               1465 non-null   object\n",
            " 7   rating_count         1463 non-null   object\n",
            " 8   about_product        1465 non-null   object\n",
            " 9   user_id              1465 non-null   object\n",
            " 10  user_name            1465 non-null   object\n",
            " 11  review_id            1465 non-null   object\n",
            " 12  review_title         1465 non-null   object\n",
            " 13  review_content       1465 non-null   object\n",
            " 14  img_link             1465 non-null   object\n",
            " 15  product_link         1465 non-null   object\n",
            "dtypes: object(16)\n",
            "memory usage: 183.3+ KB\n",
            "None\n"
          ]
        }
      ],
      "source": [
        "print(df.info())"
      ]
    },
    {
      "cell_type": "code",
      "execution_count": 5,
      "metadata": {
        "id": "AKKsLgOMRUJd",
        "outputId": "1afe730c-0c63-4120-dd2b-04b7c49a93a0",
        "colab": {
          "base_uri": "https://localhost:8080/"
        }
      },
      "outputs": [
        {
          "output_type": "stream",
          "name": "stdout",
          "text": [
            "        product_id                                       product_name  \\\n",
            "count         1465                                               1465   \n",
            "unique        1351                                               1337   \n",
            "top     B07JW9H4J1  Fire-Boltt Ninja Call Pro Plus 1.83\" Smart Wat...   \n",
            "freq             3                                                  5   \n",
            "\n",
            "                                                 category discounted_price  \\\n",
            "count                                                1465             1465   \n",
            "unique                                                211              550   \n",
            "top     Computers&Accessories|Accessories&Peripherals|...             ₹199   \n",
            "freq                                                  233               53   \n",
            "\n",
            "       actual_price discount_percentage rating rating_count  \\\n",
            "count          1465                1465   1465         1463   \n",
            "unique          449                  92     28         1143   \n",
            "top            ₹999                 50%    4.1        9,378   \n",
            "freq            120                  56    244            9   \n",
            "\n",
            "                                            about_product  \\\n",
            "count                                                1465   \n",
            "unique                                               1293   \n",
            "top     [CHARGE & SYNC FUNCTION]- This cable comes wit...   \n",
            "freq                                                    6   \n",
            "\n",
            "                                                  user_id  \\\n",
            "count                                                1465   \n",
            "unique                                               1194   \n",
            "top     AHIKJUDTVJ4T6DV6IUGFYZ5LXMPA,AE55KTFVNXYFD5FPY...   \n",
            "freq                                                   10   \n",
            "\n",
            "                                                user_name  \\\n",
            "count                                                1465   \n",
            "unique                                               1194   \n",
            "top     $@|\\|TO$|-|,Sethu madhav,Akash Thakur,Burger P...   \n",
            "freq                                                   10   \n",
            "\n",
            "                                                review_id  \\\n",
            "count                                                1465   \n",
            "unique                                               1194   \n",
            "top     R3F4T5TRYPTMIG,R3DQIEC603E7AY,R1O4Z15FD40PV5,R...   \n",
            "freq                                                   10   \n",
            "\n",
            "                                             review_title  \\\n",
            "count                                                1465   \n",
            "unique                                               1194   \n",
            "top     Worked on iPhone 7 and didn’t work on XR,Good ...   \n",
            "freq                                                   10   \n",
            "\n",
            "                                           review_content  \\\n",
            "count                                                1465   \n",
            "unique                                               1212   \n",
            "top     I am not big on camera usage, personally. I wa...   \n",
            "freq                                                    8   \n",
            "\n",
            "                                                 img_link  \\\n",
            "count                                                1465   \n",
            "unique                                               1412   \n",
            "top     https://m.media-amazon.com/images/I/413sCRKobN...   \n",
            "freq                                                    3   \n",
            "\n",
            "                                             product_link  \n",
            "count                                                1465  \n",
            "unique                                               1465  \n",
            "top     https://www.amazon.in/Wayona-Braided-WN3LG1-Sy...  \n",
            "freq                                                    1  \n"
          ]
        }
      ],
      "source": [
        "print(df.describe())"
      ]
    },
    {
      "cell_type": "markdown",
      "metadata": {
        "id": "uyiv4n76LOHF"
      },
      "source": [
        "## **Pre-Processing Data**"
      ]
    },
    {
      "cell_type": "code",
      "execution_count": 6,
      "metadata": {
        "id": "T8z2R1LyLR7c"
      },
      "outputs": [],
      "source": [
        "# Eliminate unnecessary columns\n",
        "df = df.drop(['product_id', 'user_id', 'product_name'], axis=1)"
      ]
    },
    {
      "cell_type": "code",
      "execution_count": 7,
      "metadata": {
        "id": "MBgJFirKS1c9"
      },
      "outputs": [],
      "source": [
        "# Convert rating to sentiment (positive, negative, neutral)\n",
        "\n",
        "# Convert 'rating' column to numeric\n",
        "df['rating'] = pd.to_numeric(df['rating'], errors='coerce')\n",
        "\n",
        "df['sentiment'] = df['rating'].apply(lambda rating: 'positif'\n",
        "if rating > 3 else ('negatif' if rating < 3 else 'netral'))"
      ]
    },
    {
      "cell_type": "code",
      "execution_count": 8,
      "metadata": {
        "id": "hSnZ2-hHTe-F"
      },
      "outputs": [],
      "source": [
        "# Delete duplicate data\n",
        "df.drop_duplicates(inplace=True)"
      ]
    },
    {
      "cell_type": "code",
      "execution_count": 9,
      "metadata": {
        "id": "Ivz3zk09Tqfy"
      },
      "outputs": [],
      "source": [
        "# Delete missing values (if any)\n",
        "df.dropna(inplace=True)"
      ]
    },
    {
      "cell_type": "code",
      "execution_count": 10,
      "metadata": {
        "id": "xjmcultkTwd0"
      },
      "outputs": [],
      "source": [
        "# Text Preprocessing\n",
        "nltk.download('stopwords', quiet=True)\n",
        "stop_words = set(stopwords.words('english'))"
      ]
    },
    {
      "cell_type": "code",
      "execution_count": 11,
      "metadata": {
        "id": "SWNGwmMlT6CB"
      },
      "outputs": [],
      "source": [
        "import re # Import the 're' module for regular expressions\n",
        "\n",
        "def clean_text(text):\n",
        "  text = text.lower() # Change to lowercase\n",
        "  # Remove punctuation and special characters\n",
        "  text = re.sub(r'[^\\w\\s]', '', text, re.UNICODE)\n",
        "  # Remove common words\n",
        "  text = [word for word in text.split() if word not in stop_words]\n",
        "  text = ' '.join(text) # Merge back into a string\n",
        "  return text\n",
        "\n",
        "df['review_title'] = df['review_title'].apply(clean_text)"
      ]
    },
    {
      "cell_type": "markdown",
      "metadata": {
        "id": "un801MXqW-ub"
      },
      "source": [
        "## **Feature Extraction**"
      ]
    },
    {
      "cell_type": "code",
      "execution_count": 12,
      "metadata": {
        "id": "fmy5gHXPXBja"
      },
      "outputs": [],
      "source": [
        "vectorizer = TfidfVectorizer()\n",
        "X = vectorizer.fit_transform(df['review_title'])\n",
        "y = df['sentiment']"
      ]
    },
    {
      "cell_type": "markdown",
      "metadata": {
        "id": "j527OTvVXHyd"
      },
      "source": [
        "## **Data Splitting**"
      ]
    },
    {
      "cell_type": "code",
      "execution_count": 13,
      "metadata": {
        "id": "CWwwYTthXKuB"
      },
      "outputs": [],
      "source": [
        "X_train, X_test, y_train, y_test = train_test_split(X, y, test_size=0.2,\n",
        "                                                    random_state=42)"
      ]
    },
    {
      "cell_type": "markdown",
      "metadata": {
        "id": "qiDj4WwbXQip"
      },
      "source": [
        "## **Modelling & Evaluating**"
      ]
    },
    {
      "cell_type": "code",
      "execution_count": 14,
      "metadata": {
        "id": "E7cQzwXEXVX8",
        "outputId": "a0a3188c-3e54-47b8-add4-723d969da253",
        "colab": {
          "base_uri": "https://localhost:8080/"
        }
      },
      "outputs": [
        {
          "output_type": "stream",
          "name": "stdout",
          "text": [
            "Akurasi: 1.00%\n",
            "              precision    recall  f1-score   support\n",
            "\n",
            "     negatif       0.00      0.00      0.00         1\n",
            "     positif       1.00      1.00      1.00       292\n",
            "\n",
            "    accuracy                           1.00       293\n",
            "   macro avg       0.50      0.50      0.50       293\n",
            "weighted avg       0.99      1.00      0.99       293\n",
            "\n"
          ]
        },
        {
          "output_type": "stream",
          "name": "stderr",
          "text": [
            "/usr/local/lib/python3.11/dist-packages/sklearn/metrics/_classification.py:1565: UndefinedMetricWarning: Precision is ill-defined and being set to 0.0 in labels with no predicted samples. Use `zero_division` parameter to control this behavior.\n",
            "  _warn_prf(average, modifier, f\"{metric.capitalize()} is\", len(result))\n",
            "/usr/local/lib/python3.11/dist-packages/sklearn/metrics/_classification.py:1565: UndefinedMetricWarning: Precision is ill-defined and being set to 0.0 in labels with no predicted samples. Use `zero_division` parameter to control this behavior.\n",
            "  _warn_prf(average, modifier, f\"{metric.capitalize()} is\", len(result))\n",
            "/usr/local/lib/python3.11/dist-packages/sklearn/metrics/_classification.py:1565: UndefinedMetricWarning: Precision is ill-defined and being set to 0.0 in labels with no predicted samples. Use `zero_division` parameter to control this behavior.\n",
            "  _warn_prf(average, modifier, f\"{metric.capitalize()} is\", len(result))\n"
          ]
        }
      ],
      "source": [
        "model = MultinomialNB()\n",
        "model.fit(X_train, y_train)\n",
        "\n",
        "y_pred = model.predict(X_test)\n",
        "\n",
        "accuracy = accuracy_score(y_test, y_pred)\n",
        "print(f'Akurasi: {accuracy:.2f}%')\n",
        "print(classification_report(y_test, y_pred))"
      ]
    },
    {
      "cell_type": "markdown",
      "metadata": {
        "id": "j2r5ucn3X6xy"
      },
      "source": [
        "## **Model Usage Example**"
      ]
    },
    {
      "cell_type": "code",
      "execution_count": 15,
      "metadata": {
        "id": "CClF7PO9YAdI",
        "outputId": "43d1e64f-28c3-466a-efd4-d7778313a124",
        "colab": {
          "base_uri": "https://localhost:8080/"
        }
      },
      "outputs": [
        {
          "output_type": "stream",
          "name": "stdout",
          "text": [
            "Prediksi sentimen: positif\n"
          ]
        }
      ],
      "source": [
        "new_review = \"This book is amazing! I loved every page.\"\n",
        "cleaned_review = clean_text(new_review)\n",
        "vectorized_review = vectorizer.transform([cleaned_review])\n",
        "prediction = model.predict(vectorized_review)\n",
        "print(f'Prediksi sentimen: {prediction[0]}')"
      ]
    }
  ],
  "metadata": {
    "colab": {
      "provenance": []
    },
    "kernelspec": {
      "display_name": "Python 3",
      "name": "python3"
    },
    "language_info": {
      "name": "python"
    }
  },
  "nbformat": 4,
  "nbformat_minor": 0
}